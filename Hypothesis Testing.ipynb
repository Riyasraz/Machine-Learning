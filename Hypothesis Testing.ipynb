{
 "cells": [
  {
   "cell_type": "code",
   "execution_count": 3,
   "id": "91b85dba-9227-4769-9aee-de7bf5bd5816",
   "metadata": {},
   "outputs": [
    {
     "name": "stdout",
     "output_type": "stream",
     "text": [
      "Requirement already satisfied: statsmodels in c:\\users\\riyas\\appdata\\local\\programs\\python\\python311\\lib\\site-packages (0.14.2)Note: you may need to restart the kernel to use updated packages.\n",
      "\n",
      "Requirement already satisfied: numpy>=1.22.3 in c:\\users\\riyas\\appdata\\local\\programs\\python\\python311\\lib\\site-packages (from statsmodels) (1.26.2)\n",
      "Requirement already satisfied: scipy!=1.9.2,>=1.8 in c:\\users\\riyas\\appdata\\local\\programs\\python\\python311\\lib\\site-packages (from statsmodels) (1.13.1)\n",
      "Requirement already satisfied: pandas!=2.1.0,>=1.4 in c:\\users\\riyas\\appdata\\local\\programs\\python\\python311\\lib\\site-packages (from statsmodels) (2.1.4)\n",
      "Requirement already satisfied: patsy>=0.5.6 in c:\\users\\riyas\\appdata\\local\\programs\\python\\python311\\lib\\site-packages (from statsmodels) (0.5.6)\n",
      "Requirement already satisfied: packaging>=21.3 in c:\\users\\riyas\\appdata\\local\\programs\\python\\python311\\lib\\site-packages (from statsmodels) (23.2)\n",
      "Requirement already satisfied: python-dateutil>=2.8.2 in c:\\users\\riyas\\appdata\\local\\programs\\python\\python311\\lib\\site-packages (from pandas!=2.1.0,>=1.4->statsmodels) (2.8.2)\n",
      "Requirement already satisfied: pytz>=2020.1 in c:\\users\\riyas\\appdata\\local\\programs\\python\\python311\\lib\\site-packages (from pandas!=2.1.0,>=1.4->statsmodels) (2023.3.post1)\n",
      "Requirement already satisfied: tzdata>=2022.1 in c:\\users\\riyas\\appdata\\local\\programs\\python\\python311\\lib\\site-packages (from pandas!=2.1.0,>=1.4->statsmodels) (2023.3)\n",
      "Requirement already satisfied: six in c:\\users\\riyas\\appdata\\local\\programs\\python\\python311\\lib\\site-packages (from patsy>=0.5.6->statsmodels) (1.16.0)\n"
     ]
    },
    {
     "name": "stderr",
     "output_type": "stream",
     "text": [
      "\n",
      "[notice] A new release of pip is available: 23.3.1 -> 24.0\n",
      "[notice] To update, run: python.exe -m pip install --upgrade pip\n"
     ]
    }
   ],
   "source": [
    "pip install statsmodels"
   ]
  },
  {
   "cell_type": "code",
   "execution_count": 4,
   "id": "1fbe0bf1-4e42-4d24-94aa-9b28da2e7d00",
   "metadata": {},
   "outputs": [
    {
     "name": "stdout",
     "output_type": "stream",
     "text": [
      "Requirement already satisfied: scipy in c:\\users\\riyas\\appdata\\local\\programs\\python\\python311\\lib\\site-packages (1.13.1)\n",
      "Requirement already satisfied: numpy<2.3,>=1.22.4 in c:\\users\\riyas\\appdata\\local\\programs\\python\\python311\\lib\\site-packages (from scipy) (1.26.2)\n",
      "Note: you may need to restart the kernel to use updated packages.\n"
     ]
    },
    {
     "name": "stderr",
     "output_type": "stream",
     "text": [
      "\n",
      "[notice] A new release of pip is available: 23.3.1 -> 24.0\n",
      "[notice] To update, run: python.exe -m pip install --upgrade pip\n"
     ]
    }
   ],
   "source": [
    "pip install scipy"
   ]
  },
  {
   "cell_type": "code",
   "execution_count": 5,
   "id": "a2f37893-5fd9-4cab-99f8-14a9db6ba3e2",
   "metadata": {},
   "outputs": [],
   "source": [
    "import numpy as np"
   ]
  },
  {
   "cell_type": "markdown",
   "id": "54802374-08dc-4c67-8ba2-e03c6276d827",
   "metadata": {},
   "source": [
    "## Hypothesis testing ##\n",
    "\n",
    "* Q1.Suppose a child psychologist claims that the average time working mothers spend talking to their children is at least 11 minutes per day. You conduct a random sample of 1000 working mothers and find they spend an average of 11.5 minutes per day talking with their children. Assume prior research suggests the population standard deviation is 2.3 minutes.Conduct a test with a level of significance of alpha = 0.05.*"
   ]
  },
  {
   "cell_type": "markdown",
   "id": "8b70024a-12ff-4196-9e57-39f29e09a9a5",
   "metadata": {},
   "source": [
    "# NULL HYPOTHESIS #\n",
    "\n",
    "Ho = μ ≤ 11 minutes\n",
    "\n",
    "# ALTERNATIVE HYPOTHESIS #\n",
    "\n",
    "* Ha = μ > 11 minutes\n",
    "* x̄ = 11.5 minutes\n",
    "* n = 1000\n",
    "* σ = 2.3 minutes\n",
    "* α = 0.05\n",
    "  \n",
    "# Statistical Test #\n",
    "\n",
    "1.Test Selection:\n",
    "* Use a Z-test because the sample size (1000) is greater than 30.\n",
    "  \n",
    "2.Rejection Criteria:\n",
    "* Reject ( H_0 ) if ( z_{statistics} > ) critical value.\n",
    "  \n",
    "3.Z-Test Formula:\n",
    "* ( Z = \\frac{\\bar{x} - \\mu}{\\sigma / \\sqrt{n}} )\n",
    "  \n",
    "4.Parameters:\n",
    "* ( \\bar{x} ) (sample mean): 11.5 minutes\n",
    "* ( \\mu ) (population mean): 11 minutes\n",
    "* ( \\sigma ) (population standard deviation): 2.3 minutes\n",
    "* ( n ) (sample size): 1000 "
   ]
  },
  {
   "cell_type": "code",
   "execution_count": 6,
   "id": "ba11e82d-af18-4a33-8246-c4a34edc6a8c",
   "metadata": {},
   "outputs": [],
   "source": [
    "import math"
   ]
  },
  {
   "cell_type": "code",
   "execution_count": 7,
   "id": "9c6b4580-8c84-4b68-9950-41d3fad24a8e",
   "metadata": {},
   "outputs": [
    {
     "data": {
      "text/plain": [
       "6.874516652539955"
      ]
     },
     "execution_count": 7,
     "metadata": {},
     "output_type": "execute_result"
    }
   ],
   "source": [
    "Z = (11.5-11)/(2.3/math.sqrt(1000))\n",
    "Z"
   ]
  },
  {
   "cell_type": "markdown",
   "id": "a6764787-5cfe-431f-8a06-b1da314c21ec",
   "metadata": {},
   "source": [
    "## Find Critical Value/P-Value: ##\n",
    "\n",
    "Since we're conducting a one-tailed test (since we're testing if the average time is more than 11 minutes), we will look up the critical value for a z-score corresponding to an alpha level of 0.05 from z-distribution table.\n",
    "\n",
    "corresponds to an alpha level of 0.05\n",
    "\n",
    "Critical value=1.645\n",
    "Note :- Rejection criteria is z-score>critical value, fail to accept Ho\n",
    "\n",
    "## Conclusion: ## \n",
    "Since our calculated z-score (6.87) is much greater than the critical value (1.645), we *reject the null hypothesis*. We have sufficient evidence to conclude that the average time working mothers spend talking to their children is more than 11 minutes per day ."
   ]
  },
  {
   "cell_type": "code",
   "execution_count": null,
   "id": "da33813e-6eab-4de8-9f7c-35f4f044be3b",
   "metadata": {},
   "outputs": [],
   "source": []
  },
  {
   "cell_type": "markdown",
   "id": "8e7d322e-f257-4b0b-9a83-7ebac6c4216a",
   "metadata": {},
   "source": [
    "* Q2. A coffee shop claims that their average wait time for customers is less than 5 minutes. To test this claim, a sample of 40 customers is taken, and their wait times are recorded. The sample mean wait time is found to be 4.6 minutes with a standard deviation of 0.8 minutes. Perform a hypothesis test at a significance level of 0.05 and determine whether there is enough evidence to support the coffee shop's claim."
   ]
  },
  {
   "cell_type": "markdown",
   "id": "941b1eab-9fd0-466d-a130-bc93264fe938",
   "metadata": {},
   "source": [
    "ANSWER:-\n",
    "\n",
    "Ho = μ ≥ 5 minute (Null Hypothesis)sv in-1) = 39\n",
    "Ha = μ < 5 minutes (Alternative Hypothesis)\n",
    "\n",
    "x̄ = 4.6 minutes\n",
    "\n",
    "n = 40\n",
    "\n",
    "σ = 0.8 minutes\n",
    "\n",
    "μ = 5 minutes\n",
    "\n",
    "α = 0.05(5%)\n",
    "\n",
    "n-1 = 39\n",
    "\n",
    "* Statistical Test Here the population std is unknown, so we can use t-test for this. If the sample size is small (typically <30) and the population standard deviation is unknown, the t-test is appropriate. However, for larger sample sizes (usually greater than 30), the t-test can also be used even if the population standard deviation is unknown due to the Central Limit Theorem, which states that the distribution of sample means approaches a normal distribution as the sample size increases.\n",
    "\n",
    "                            Formula t_test_statistic=(x̄ - μ) / (σ / √n)\n",
    "Where:\n",
    "\n",
    "* x̄ = sample mean (4.6 minutes)\n",
    "* μ = population mean (5 minutes)\n",
    "* σ = Sample standard deviation (0.8 minutes)\n",
    "* n = sample size (40).\n",
    "* α = Significance level (0.05(5%)).\n",
    "* n-1 = Degree of freedom(39)."
   ]
  },
  {
   "cell_type": "code",
   "execution_count": 8,
   "id": "c5c0b15e-ddcc-4708-91a4-a1758baaf1c2",
   "metadata": {},
   "outputs": [
    {
     "name": "stdout",
     "output_type": "stream",
     "text": [
      "t_statistic: -3.162277660168382\n"
     ]
    }
   ],
   "source": [
    "t_test_statistic=(4.6 - 5) / (0.8 / np.sqrt(40))\n",
    "print('t_statistic:',t_test_statistic)"
   ]
  },
  {
   "cell_type": "markdown",
   "id": "d3fccc72-0277-443a-a12d-e6c4f78955e3",
   "metadata": {},
   "source": [
    "The function t.ppf(alpha, df) calculates a critical value from the t-distribution based on the provided significance level (alpha) and degrees of freedom (df).\n",
    "\n",
    "The term \"percent point function\" (ppf) means it gives you a value from the distribution such that if you randomly select a value from the distribution, there's a certain probability it will be less than or equal to that value.\n",
    "\n",
    "In simpler terms, it helps to find a specific value in the t-distribution where a certain percentage of the distribution falls below that value."
   ]
  },
  {
   "cell_type": "code",
   "execution_count": 9,
   "id": "5d89ceda-e61b-42bb-b2d5-6b7da2f0b27d",
   "metadata": {},
   "outputs": [
    {
     "name": "stdout",
     "output_type": "stream",
     "text": [
      "Critical value: -1.684875121711225\n"
     ]
    }
   ],
   "source": [
    "#calculating the critical value with df 39 and alpha 0.05\n",
    "from scipy.stats import t\n",
    "critical_value = t.ppf(0.05, 39)\n",
    "print(\"Critical value:\", critical_value)"
   ]
  },
  {
   "cell_type": "markdown",
   "id": "7ce380cf-b231-4dd5-a2f4-95068565b775",
   "metadata": {},
   "source": [
    "# Conclusion:\n",
    "Since our calculated t_test(-3.16) is less than the critical t-value (-1.685), we fail to accept the null hypothesis. There is enough evidence to support the claim that the average wait time for customers is less than 5 minutes at a significance level of 0.05."
   ]
  },
  {
   "cell_type": "code",
   "execution_count": null,
   "id": "df09082f-bfaa-4a79-9acd-4edde92b50b9",
   "metadata": {},
   "outputs": [],
   "source": []
  },
  {
   "cell_type": "code",
   "execution_count": null,
   "id": "4878a8be-e1a8-4094-8761-a3889785b746",
   "metadata": {},
   "outputs": [],
   "source": []
  }
 ],
 "metadata": {
  "kernelspec": {
   "display_name": "Python 3 (ipykernel)",
   "language": "python",
   "name": "python3"
  },
  "language_info": {
   "codemirror_mode": {
    "name": "ipython",
    "version": 3
   },
   "file_extension": ".py",
   "mimetype": "text/x-python",
   "name": "python",
   "nbconvert_exporter": "python",
   "pygments_lexer": "ipython3",
   "version": "3.11.5"
  }
 },
 "nbformat": 4,
 "nbformat_minor": 5
}
